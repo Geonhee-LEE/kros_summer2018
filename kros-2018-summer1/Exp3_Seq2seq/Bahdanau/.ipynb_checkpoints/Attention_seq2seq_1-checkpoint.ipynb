{
 "cells": [
  {
   "cell_type": "markdown",
   "metadata": {},
   "source": [
    "# Attention mechanism을 적용한 RNN encoder-decoder 모델\n",
    "- 기존의 RNN encoder-decoder모델에서 Bahdanau attention mechanism을 적용한 모델을 살펴봅시다.\n",
    "- 이번 실습에서는 다양한 날짜 표기법을 년도-월-일의 표준형태로 바꿔주는 작업을 할 것입니다.\n",
    "- 시간상 training을 따로하지 않고 저장된 모델을 불러와서 사용해보도록 하겠습니다.\n",
    "### Reference\n",
    "- https://github.com/datalogue/keras-attention\n"
   ]
  },
  {
   "cell_type": "code",
   "execution_count": 1,
   "metadata": {
    "collapsed": false
   },
   "outputs": [
    {
     "name": "stderr",
     "output_type": "stream",
     "text": [
      "Using TensorFlow backend.\n"
     ]
    }
   ],
   "source": [
    "# 필요한 모듈 import\n",
    "import os\n",
    "\n",
    "import numpy as np\n",
    "import matplotlib.pyplot as plt\n",
    "import matplotlib.patches as mpatches\n",
    "\n",
    "from utils.examples import run_example\n",
    "from data.reader import Vocabulary"
   ]
  },
  {
   "cell_type": "markdown",
   "metadata": {},
   "source": [
    "### Model\n",
    "![Attention mechanism](./Attention_module.png)\n",
    "- Attention mechanism을 추가한 RNN encoder-decoder 모델은 그림과 같이 decoder 각 time step의 hidden state를 구하는 데 필요한 context vector가 encoder의 hidden state와 attention weight a와의 weighted sum으로 계산됩니다.\n",
    "- Attention weight는 encoder hidden state와 decoder의 hidden state 간 scoring function을 통해 관계를 찾음으로써 구할 수 있습니다.\n",
    "- 즉 encoder state들 중 예측하고자하는 output과 관련된 부분을 찾아 그 부분에 더욱 집중을 함으로써 성능을 향상시키는 mechanism이라고 볼 수 있습니다."
   ]
  },
  {
   "cell_type": "code",
   "execution_count": 2,
   "metadata": {
    "collapsed": true
   },
   "outputs": [],
   "source": [
    "from keras.models import Model\n",
    "from keras.layers import Dense, Embedding, Activation, Permute\n",
    "from keras.layers import Input, Flatten, Dropout\n",
    "from keras.layers.recurrent import LSTM\n",
    "from keras.layers.wrappers import TimeDistributed, Bidirectional\n",
    "from models.custom_recurrents import AttentionDecoder\n",
    "\n",
    "def simpleNMT(pad_length=100,\n",
    "              n_chars=105,\n",
    "              n_labels=6,\n",
    "              embedding_learnable=False,\n",
    "              encoder_units=256,\n",
    "              decoder_units=256,\n",
    "              trainable=True,\n",
    "              return_probabilities=False):\n",
    "    \"\"\"\n",
    "    Builds a Neural Machine Translator that has alignment attention\n",
    "    :param pad_length: the size of the input sequence\n",
    "    :param n_chars: the number of characters in the vocabulary\n",
    "    :param n_labels: the number of possible labelings for each character\n",
    "    :param embedding_learnable: decides if the one hot embedding should be refinable.\n",
    "    :return: keras.models.Model that can be compiled and fit'ed\n",
    "\n",
    "    *** REFERENCES ***\n",
    "    Lee, Jason, Kyunghyun Cho, and Thomas Hofmann. \n",
    "    \"Neural Machine Translation By Jointly Learning To Align and Translate\" \n",
    "    \"\"\"\n",
    "    input_ = Input(shape=(pad_length,), dtype='float32')\n",
    "    input_embed = Embedding(n_chars, n_chars,\n",
    "                            input_length=pad_length,\n",
    "                            trainable=embedding_learnable,\n",
    "                            weights=[np.eye(n_chars)],\n",
    "                            name='OneHot')(input_)\n",
    "\n",
    "    rnn_encoded = Bidirectional(LSTM(encoder_units, return_sequences=True),\n",
    "                                name='bidirectional_1',\n",
    "                                merge_mode='concat',\n",
    "                                trainable=trainable)(input_embed)\n",
    "\n",
    "    y_hat = AttentionDecoder(decoder_units,\n",
    "                             name='attention_decoder_1',\n",
    "                             output_dim=n_labels,\n",
    "                             return_probabilities=return_probabilities,\n",
    "                             trainable=trainable)(rnn_encoded)\n",
    "\n",
    "    model = Model(inputs=input_, outputs=y_hat)\n",
    "\n",
    "    return model"
   ]
  },
  {
   "cell_type": "markdown",
   "metadata": {},
   "source": [
    "### Attention visualization\n",
    "- 그렇다면 예시 문장을 입력하여 예측된 sequence의 각 부분이 입력된 sequence의 어떤 부분에 집중하였는지를 쉽게 확인할 수 있는 attention map을 그려보도록 하겠습니다."
   ]
  },
  {
   "cell_type": "code",
   "execution_count": 7,
   "metadata": {
    "collapsed": false
   },
   "outputs": [],
   "source": [
    "def run_example(model, input_vocabulary, output_vocabulary, text):\n",
    "    encoded = input_vocabulary.string_to_int(text)\n",
    "    prediction = model.predict(np.array([encoded]))\n",
    "    prediction = np.argmax(prediction[0], axis=-1)\n",
    "    return output_vocabulary.int_to_string(prediction)\n",
    "\n",
    "def run_examples(model, input_vocabulary, output_vocabulary, examples):\n",
    "    predicted = []\n",
    "    for example in examples:\n",
    "        print('~~~~~')\n",
    "        predicted.append(''.join(run_example(model, input_vocabulary, output_vocabulary, example)))\n",
    "        print('input:',example)\n",
    "        print('output:',predicted[-1])\n",
    "    return predicted"
   ]
  },
  {
   "cell_type": "code",
   "execution_count": 8,
   "metadata": {
    "collapsed": true
   },
   "outputs": [],
   "source": [
    "HERE = '.'\n",
    "\n",
    "SAMPLE_HUMAN_VOCAB = os.path.join(HERE, 'data', 'sample_human_vocab.json')\n",
    "SAMPLE_MACHINE_VOCAB = os.path.join(HERE, 'data', 'sample_machine_vocab.json')\n",
    "SAMPLE_WEIGHTS = os.path.join(HERE, 'weights', 'sample_NMT.49.0.01.hdf5')\n",
    "\n",
    "weights = SAMPLE_WEIGHTS\n",
    "padding = 50\n",
    "human_vocab = SAMPLE_HUMAN_VOCAB\n",
    "machine_vocab = SAMPLE_MACHINE_VOCAB"
   ]
  },
  {
   "cell_type": "code",
   "execution_count": 9,
   "metadata": {
    "collapsed": false
   },
   "outputs": [],
   "source": [
    "HERE = '.'\n",
    "# create a directory if it doesn't already exist\n",
    "# if not os.path.exists(os.path.join(HERE, 'attention_maps')):\n",
    "#     os.makedirs(os.path.join(HERE, 'attention_maps'))\n",
    "\n",
    "SAMPLE_HUMAN_VOCAB = os.path.join(HERE, 'data', 'sample_human_vocab.json')\n",
    "SAMPLE_MACHINE_VOCAB = os.path.join(HERE, 'data', 'sample_machine_vocab.json')\n",
    "SAMPLE_WEIGHTS = os.path.join(HERE, 'weights', 'sample_NMT.49.0.01.hdf5')\n",
    "\n",
    "class Visualizer(object):\n",
    "\n",
    "    def __init__(self,\n",
    "                 padding=None,\n",
    "                 input_vocab=SAMPLE_HUMAN_VOCAB,\n",
    "                 output_vocab=SAMPLE_MACHINE_VOCAB):\n",
    "        \"\"\"\n",
    "            Visualizes attention maps\n",
    "            :param padding: the padding to use for the sequences.\n",
    "            :param input_vocab: the location of the input human\n",
    "                                vocabulary file\n",
    "            :param output_vocab: the location of the output \n",
    "                                 machine vocabulary file\n",
    "        \"\"\"\n",
    "        self.padding = padding\n",
    "        self.input_vocab = Vocabulary(\n",
    "            input_vocab, padding=padding)\n",
    "        self.output_vocab = Vocabulary(\n",
    "            output_vocab, padding=padding)\n",
    "\n",
    "    def set_models(self, pred_model, proba_model):\n",
    "        \"\"\"\n",
    "            Sets the models to use\n",
    "            :param pred_model: the prediction model\n",
    "            :param proba_model: the model that outputs the activation maps\n",
    "        \"\"\"\n",
    "        self.pred_model = pred_model\n",
    "        self.proba_model = proba_model\n",
    "\n",
    "    def attention_map(self, text):\n",
    "        \"\"\"\n",
    "            Text to visualze attention map for.\n",
    "        \"\"\"\n",
    "        # encode the string\n",
    "        d = self.input_vocab.string_to_int(text)\n",
    "\n",
    "        # get the output sequence\n",
    "        predicted_text = run_example(\n",
    "            self.pred_model, self.input_vocab, self.output_vocab, text)\n",
    "\n",
    "        text_ = list(text) + ['<eot>'] + ['<unk>'] * self.input_vocab.padding\n",
    "        # get the lengths of the string\n",
    "        input_length = len(text)+1\n",
    "        output_length = predicted_text.index('<eot>')+1\n",
    "        # get the activation map\n",
    "        activation_map = np.squeeze(self.proba_model.predict(np.array([d])))[\n",
    "            0:output_length, 0:input_length]\n",
    "\n",
    "        # import seaborn as sns\n",
    "        plt.clf()\n",
    "        f = plt.figure(figsize=(8, 8.5))\n",
    "        ax = f.add_subplot(1, 1, 1)\n",
    "\n",
    "        # add image\n",
    "        i = ax.imshow(activation_map, interpolation='nearest', cmap='gray')\n",
    "        \n",
    "        # add colorbar\n",
    "        cbaxes = f.add_axes([0.2, 0, 0.6, 0.03])\n",
    "        cbar = f.colorbar(i, cax=cbaxes, orientation='horizontal')\n",
    "        cbar.ax.set_xlabel('Probability', labelpad=2)\n",
    "\n",
    "        # add labels\n",
    "        ax.set_yticks(range(output_length))\n",
    "        ax.set_yticklabels(predicted_text[:output_length])\n",
    "        \n",
    "        ax.set_xticks(range(input_length))\n",
    "        ax.set_xticklabels(text_[:input_length], rotation=45)\n",
    "        \n",
    "        ax.set_xlabel('Input Sequence')\n",
    "        ax.set_ylabel('Output Sequence')\n",
    "\n",
    "        # add grid and legend\n",
    "        ax.grid()\n",
    "        # ax.legend(loc='best')\n",
    "\n",
    "        # f.savefig(os.path.join(HERE, 'attention_maps', text.replace('/', '')+'.pdf'), bbox_inches='tight')\n",
    "        f.show()"
   ]
  },
  {
   "cell_type": "markdown",
   "metadata": {},
   "source": [
    "### Visualization\n",
    "![Attention visualization](./Example.jpg)\n",
    "- 예시 그림은 밝기에 따른 attention을 나타낸 것입니다. 즉 여기서는 월을 나타내는 '05'를 예측하기 위해 입력 문구의 'May'부분에 집중이 되었음을 알 수가 있습니다. Attention mechanism은 이처럼 output과 대응하는 input을 찾아 이에 attention을 주기 때문에 어순이 다른 문장에서도 번역이 가능합니다."
   ]
  },
  {
   "cell_type": "code",
   "execution_count": 11,
   "metadata": {
    "collapsed": false
   },
   "outputs": [
    {
     "name": "stdout",
     "output_type": "stream",
     "text": [
      "Weights loading from: .\\weights\\sample_NMT.49.0.01.hdf5\n",
      "Loading models\n",
      "inputs shape: (?, ?, 512)\n",
      "inputs shape: (?, ?, 512)\n",
      "Models loaded\n",
      "Completed visualizations\n"
     ]
    },
    {
     "name": "stderr",
     "output_type": "stream",
     "text": [
      "C:\\Program Files\\Anaconda3\\lib\\site-packages\\matplotlib\\figure.py:397: UserWarning: matplotlib is currently using a non-GUI backend, so cannot show the figure\n",
      "  \"matplotlib is currently using a non-GUI backend, \"\n"
     ]
    },
    {
     "data": {
      "text/plain": [
       "<matplotlib.figure.Figure at 0x1d5d9f5df60>"
      ]
     },
     "metadata": {},
     "output_type": "display_data"
    },
    {
     "data": {
      "image/png": "[encoded data removed]",
      "text/plain": [
       "<matplotlib.figure.Figure at 0x1d5db9a9128>"
      ]
     },
     "metadata": {},
     "output_type": "display_data"
    }
   ],
   "source": [
    "# 여기에 입력 날짜를 넣습니다.\n",
    "EXAMPLES = ['8월 7일 2018년']\n",
    "weights_file = os.path.expanduser(weights)\n",
    "print('Weights loading from:', weights_file)\n",
    "viz = Visualizer(padding=padding,\n",
    "                 input_vocab=human_vocab,\n",
    "                 output_vocab=machine_vocab)\n",
    "print('Loading models')\n",
    "# 문장을 예측하기 위해 부르는 모델\n",
    "pred_model = simpleNMT(trainable=False,\n",
    "                       pad_length=padding,\n",
    "                       n_chars=viz.input_vocab.size(),\n",
    "                       n_labels=viz.output_vocab.size())\n",
    "\n",
    "pred_model.load_weights(weights_file, by_name=True)\n",
    "pred_model.compile(optimizer='adam', loss='categorical_crossentropy')\n",
    "\n",
    "# 이번엔 문장을 예측하기 위해 적용된 attention weight값을 불러오기 위해 return_probabilities=True로 바꾸어 다시 compile합니다.\n",
    "prob_model = simpleNMT(trainable=False,\n",
    "                        pad_length=padding,\n",
    "                        n_chars=viz.input_vocab.size(),\n",
    "                        n_labels=viz.output_vocab.size(),\n",
    "                        return_probabilities=True)\n",
    "\n",
    "prob_model.load_weights(weights_file, by_name=True)\n",
    "prob_model.compile(optimizer='adam', loss='categorical_crossentropy')\n",
    "\n",
    "viz.set_models(pred_model, prob_model)\n",
    "\n",
    "print('Models loaded')\n",
    "\n",
    "for example in EXAMPLES:\n",
    "    viz.attention_map(example)\n",
    "\n",
    "print('Completed visualizations')"
   ]
  },
  {
   "cell_type": "code",
   "execution_count": null,
   "metadata": {
    "collapsed": true
   },
   "outputs": [],
   "source": []
  },
  {
   "cell_type": "code",
   "execution_count": null,
   "metadata": {
    "collapsed": true
   },
   "outputs": [],
   "source": []
  }
 ],
 "metadata": {
  "anaconda-cloud": {},
  "kernelspec": {
   "display_name": "Python [default]",
   "language": "python",
   "name": "python3"
  },
  "language_info": {
   "codemirror_mode": {
    "name": "ipython",
    "version": 3
   },
   "file_extension": ".py",
   "mimetype": "text/x-python",
   "name": "python",
   "nbconvert_exporter": "python",
   "pygments_lexer": "ipython3",
   "version": "3.5.2"
  }
 },
 "nbformat": 4,
 "nbformat_minor": 1
}
